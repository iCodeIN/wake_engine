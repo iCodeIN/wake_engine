{
 "cells": [
  {
   "cell_type": "code",
   "execution_count": 1,
   "metadata": {},
   "outputs": [
    {
     "ename": "ImportError",
     "evalue": "cannot import name 'generate_all_legal_moves' from 'wake.position' (/Users/wes/projects/wake/wake/position.py)",
     "output_type": "error",
     "traceback": [
      "\u001b[0;31m---------------------------------------------------------------------------\u001b[0m",
      "\u001b[0;31mImportError\u001b[0m                               Traceback (most recent call last)",
      "\u001b[0;32m<ipython-input-1-23f9780aecf0>\u001b[0m in \u001b[0;36m<module>\u001b[0;34m\u001b[0m\n\u001b[0;32m----> 1\u001b[0;31m \u001b[0;32mfrom\u001b[0m \u001b[0mwake\u001b[0m\u001b[0;34m.\u001b[0m\u001b[0mgame\u001b[0m \u001b[0;32mimport\u001b[0m \u001b[0mGame\u001b[0m\u001b[0;34m\u001b[0m\u001b[0;34m\u001b[0m\u001b[0m\n\u001b[0m\u001b[1;32m      2\u001b[0m \u001b[0;32mfrom\u001b[0m \u001b[0mwake\u001b[0m\u001b[0;34m.\u001b[0m\u001b[0mmove\u001b[0m \u001b[0;32mimport\u001b[0m \u001b[0mMove\u001b[0m\u001b[0;34m\u001b[0m\u001b[0;34m\u001b[0m\u001b[0m\n\u001b[1;32m      3\u001b[0m \u001b[0;32mfrom\u001b[0m \u001b[0mwake\u001b[0m\u001b[0;34m.\u001b[0m\u001b[0mposition\u001b[0m \u001b[0;32mimport\u001b[0m \u001b[0mPosition\u001b[0m\u001b[0;34m,\u001b[0m \u001b[0mgenerate_fen\u001b[0m\u001b[0;34m\u001b[0m\u001b[0;34m\u001b[0m\u001b[0m\n\u001b[1;32m      4\u001b[0m \u001b[0;32mfrom\u001b[0m \u001b[0mwake\u001b[0m\u001b[0;34m.\u001b[0m\u001b[0mbitboard_helpers\u001b[0m \u001b[0;32mimport\u001b[0m \u001b[0mpprint_pieces\u001b[0m\u001b[0;34m,\u001b[0m \u001b[0mpprint_bb\u001b[0m\u001b[0;34m,\u001b[0m \u001b[0mset_bit\u001b[0m\u001b[0;34m,\u001b[0m \u001b[0mmake_uint64\u001b[0m\u001b[0;34m\u001b[0m\u001b[0;34m\u001b[0m\u001b[0m\n\u001b[1;32m      5\u001b[0m \u001b[0;32mfrom\u001b[0m \u001b[0mwake\u001b[0m\u001b[0;34m.\u001b[0m\u001b[0mconstants\u001b[0m \u001b[0;32mimport\u001b[0m \u001b[0mPiece\u001b[0m\u001b[0;34m,\u001b[0m \u001b[0mSquare\u001b[0m\u001b[0;34m,\u001b[0m \u001b[0mColor\u001b[0m\u001b[0;34m,\u001b[0m \u001b[0msquare_map\u001b[0m\u001b[0;34m\u001b[0m\u001b[0;34m\u001b[0m\u001b[0m\n",
      "\u001b[0;32m~/projects/wake/wake/game.py\u001b[0m in \u001b[0;36m<module>\u001b[0;34m\u001b[0m\n\u001b[1;32m      7\u001b[0m \u001b[0;32mfrom\u001b[0m \u001b[0mwake\u001b[0m\u001b[0;34m.\u001b[0m\u001b[0mbitboard_helpers\u001b[0m \u001b[0;32mimport\u001b[0m \u001b[0mpprint_pieces\u001b[0m\u001b[0;34m\u001b[0m\u001b[0;34m\u001b[0m\u001b[0m\n\u001b[1;32m      8\u001b[0m \u001b[0;32mfrom\u001b[0m \u001b[0mwake\u001b[0m\u001b[0;34m.\u001b[0m\u001b[0mconstants\u001b[0m \u001b[0;32mimport\u001b[0m \u001b[0mColor\u001b[0m\u001b[0;34m,\u001b[0m \u001b[0mUciCommand\u001b[0m\u001b[0;34m\u001b[0m\u001b[0;34m\u001b[0m\u001b[0m\n\u001b[0;32m----> 9\u001b[0;31m \u001b[0;32mfrom\u001b[0m \u001b[0mwake\u001b[0m\u001b[0;34m.\u001b[0m\u001b[0mposition\u001b[0m \u001b[0;32mimport\u001b[0m \u001b[0mPosition\u001b[0m\u001b[0;34m,\u001b[0m \u001b[0mgenerate_all_legal_moves\u001b[0m\u001b[0;34m\u001b[0m\u001b[0;34m\u001b[0m\u001b[0m\n\u001b[0m\u001b[1;32m     10\u001b[0m \u001b[0;32mfrom\u001b[0m \u001b[0mwake\u001b[0m\u001b[0;34m.\u001b[0m\u001b[0muci_input_parser\u001b[0m \u001b[0;32mimport\u001b[0m \u001b[0mUciInputParser\u001b[0m\u001b[0;34m\u001b[0m\u001b[0;34m\u001b[0m\u001b[0m\n\u001b[1;32m     11\u001b[0m \u001b[0;34m\u001b[0m\u001b[0m\n",
      "\u001b[0;31mImportError\u001b[0m: cannot import name 'generate_all_legal_moves' from 'wake.position' (/Users/wes/projects/wake/wake/position.py)"
     ]
    }
   ],
   "source": [
    "from wake.game import Game\n",
    "from wake.move import Move\n",
    "from wake.position import Position, generate_fen\n",
    "from wake.bitboard_helpers import pprint_pieces, pprint_bb, set_bit, make_uint64\n",
    "from wake.constants import Piece, Square, Color, square_map\n",
    "\n",
    "import numpy as np"
   ]
  },
  {
   "cell_type": "code",
   "execution_count": null,
   "metadata": {},
   "outputs": [],
   "source": [
    "position = Position()\n",
    "\n",
    "m_1 = Move(Piece.wP, (Square.E2, Square.E4))\n",
    "m_2 = Move(Piece.bP, (Square.E7, Square.E5))\n",
    "m_3 = Move(Piece.wN, (Square.G1, Square.F3))\n",
    "m_4 = Move(Piece.bN, (Square.B8, Square.C6))\n",
    "m_5 = Move(Piece.wB, (Square.F1, Square.C4))\n",
    "m_6 = Move(Piece.bN, (Square.G8, Square.F6))\n",
    "m_7 = Move(Piece.wN, (Square.F3, Square.G5))\n",
    "m_8 = Move(Piece.bP, (Square.D7, Square.D5))\n",
    "m_9 = Move(Piece.wP, (Square.E4, Square.D5))\n",
    "m_10 = Move(Piece.bN, (Square.F6, Square.D5))\n",
    "m_11 = Move(Piece.wN, (Square.G5, Square.F7))\n",
    "m_12 = Move(Piece.bK, (Square.E8, Square.F7))\n",
    "m_13 = Move(Piece.wQ, (Square.D1, Square.F3))\n",
    "\n",
    "position.make_move(m_1).fen\n",
    "position.make_move(m_2).fen\n",
    "position.make_move(m_3).fen\n",
    "position.make_move(m_4).fen\n",
    "position.make_move(m_5).fen\n",
    "position.make_move(m_6).fen\n",
    "position.make_move(m_7).fen\n",
    "position.make_move(m_8).fen\n",
    "position.make_move(m_9).fen\n",
    "position.make_move(m_10).fen\n",
    "position.make_move(m_11).fen\n",
    "position.make_move(m_12).fen\n",
    "position.make_move(m_13).fen\n",
    "\n",
    "pprint_pieces(position.piece_map)"
   ]
  },
  {
   "cell_type": "code",
   "execution_count": null,
   "metadata": {},
   "outputs": [],
   "source": [
    "m_14 = Move(Piece.bK, (Square.F7, Square.G8))\n",
    "m_15 = Move(Piece.wB, (Square.C4, Square.D5))\n",
    "position.make_move(m_14).fen\n",
    "position.make_move(m_15).fen\n",
    "\n",
    "pprint_pieces(position.piece_map)"
   ]
  },
  {
   "cell_type": "code",
   "execution_count": null,
   "metadata": {},
   "outputs": [],
   "source": [
    "m_16 = Move(Piece.bQ, (Square.D8, Square.D5))\n",
    "m_17 = Move(Piece.wQ, (Square.F3, Square.D5))\n",
    "position.make_move(m_16).fen\n",
    "position.make_move(m_17).fen\n",
    "\n",
    "pprint_pieces(position.piece_map)"
   ]
  }
 ],
 "metadata": {
  "kernelspec": {
   "display_name": "Python 3",
   "language": "python",
   "name": "python3"
  },
  "language_info": {
   "codemirror_mode": {
    "name": "ipython",
    "version": 3
   },
   "file_extension": ".py",
   "mimetype": "text/x-python",
   "name": "python",
   "nbconvert_exporter": "python",
   "pygments_lexer": "ipython3",
   "version": "3.8.5"
  }
 },
 "nbformat": 4,
 "nbformat_minor": 4
}
